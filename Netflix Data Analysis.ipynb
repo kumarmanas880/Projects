{
 "cells": [
  {
   "cell_type": "code",
   "execution_count": 2,
   "metadata": {
    "_cell_guid": "b1076dfc-b9ad-4769-8c92-a6c4dae69d19",
    "_uuid": "8f2839f25d086af736a60e9eeb907d3b93b6e0e5",
    "execution": {
     "iopub.execute_input": "2022-08-17T21:59:01.197190Z",
     "iopub.status.busy": "2022-08-17T21:59:01.196180Z",
     "iopub.status.idle": "2022-08-17T21:59:02.446945Z",
     "shell.execute_reply": "2022-08-17T21:59:02.445704Z",
     "shell.execute_reply.started": "2022-08-17T21:59:01.197145Z"
    }
   },
   "outputs": [],
   "source": [
    "import numpy as np \n",
    "import pandas as pd \n",
    "import os\n",
    "for dirname, _, filenames in os.walk('/kaggle/input'):\n",
    "    for filename in filenames:\n",
    "        print(os.path.join(dirname, filename))\n",
    "import matplotlib.pyplot as plt\n",
    "import seaborn as sns\n"
   ]
  },
  {
   "cell_type": "code",
   "execution_count": 3,
   "metadata": {
    "execution": {
     "iopub.execute_input": "2022-08-17T21:59:04.995417Z",
     "iopub.status.busy": "2022-08-17T21:59:04.995027Z",
     "iopub.status.idle": "2022-08-17T21:59:05.109836Z",
     "shell.execute_reply": "2022-08-17T21:59:05.108717Z",
     "shell.execute_reply.started": "2022-08-17T21:59:04.995384Z"
    }
   },
   "outputs": [
    {
     "data": {
      "text/html": [
       "<div>\n",
       "<style scoped>\n",
       "    .dataframe tbody tr th:only-of-type {\n",
       "        vertical-align: middle;\n",
       "    }\n",
       "\n",
       "    .dataframe tbody tr th {\n",
       "        vertical-align: top;\n",
       "    }\n",
       "\n",
       "    .dataframe thead th {\n",
       "        text-align: right;\n",
       "    }\n",
       "</style>\n",
       "<table border=\"1\" class=\"dataframe\">\n",
       "  <thead>\n",
       "    <tr style=\"text-align: right;\">\n",
       "      <th></th>\n",
       "      <th>title</th>\n",
       "      <th>type</th>\n",
       "      <th>description</th>\n",
       "      <th>release_year</th>\n",
       "      <th>age_certification</th>\n",
       "      <th>runtime</th>\n",
       "      <th>genres</th>\n",
       "      <th>production_countries</th>\n",
       "      <th>seasons</th>\n",
       "      <th>imdb_id</th>\n",
       "      <th>imdb_score</th>\n",
       "      <th>imdb_votes</th>\n",
       "      <th>tmdb_popularity</th>\n",
       "      <th>tmdb_score</th>\n",
       "    </tr>\n",
       "    <tr>\n",
       "      <th>id</th>\n",
       "      <th></th>\n",
       "      <th></th>\n",
       "      <th></th>\n",
       "      <th></th>\n",
       "      <th></th>\n",
       "      <th></th>\n",
       "      <th></th>\n",
       "      <th></th>\n",
       "      <th></th>\n",
       "      <th></th>\n",
       "      <th></th>\n",
       "      <th></th>\n",
       "      <th></th>\n",
       "      <th></th>\n",
       "    </tr>\n",
       "  </thead>\n",
       "  <tbody>\n",
       "    <tr>\n",
       "      <th>ts300399</th>\n",
       "      <td>Five Came Back: The Reference Films</td>\n",
       "      <td>SHOW</td>\n",
       "      <td>This collection includes 12 World War II-era p...</td>\n",
       "      <td>1945</td>\n",
       "      <td>TV-MA</td>\n",
       "      <td>48</td>\n",
       "      <td>['documentation']</td>\n",
       "      <td>['US']</td>\n",
       "      <td>1.0</td>\n",
       "      <td>NaN</td>\n",
       "      <td>NaN</td>\n",
       "      <td>NaN</td>\n",
       "      <td>0.600</td>\n",
       "      <td>NaN</td>\n",
       "    </tr>\n",
       "    <tr>\n",
       "      <th>tm84618</th>\n",
       "      <td>Taxi Driver</td>\n",
       "      <td>MOVIE</td>\n",
       "      <td>A mentally unstable Vietnam War veteran works ...</td>\n",
       "      <td>1976</td>\n",
       "      <td>R</td>\n",
       "      <td>113</td>\n",
       "      <td>['crime', 'drama']</td>\n",
       "      <td>['US']</td>\n",
       "      <td>NaN</td>\n",
       "      <td>tt0075314</td>\n",
       "      <td>8.3</td>\n",
       "      <td>795222.0</td>\n",
       "      <td>27.612</td>\n",
       "      <td>8.2</td>\n",
       "    </tr>\n",
       "    <tr>\n",
       "      <th>tm127384</th>\n",
       "      <td>Monty Python and the Holy Grail</td>\n",
       "      <td>MOVIE</td>\n",
       "      <td>King Arthur, accompanied by his squire, recrui...</td>\n",
       "      <td>1975</td>\n",
       "      <td>PG</td>\n",
       "      <td>91</td>\n",
       "      <td>['comedy', 'fantasy']</td>\n",
       "      <td>['GB']</td>\n",
       "      <td>NaN</td>\n",
       "      <td>tt0071853</td>\n",
       "      <td>8.2</td>\n",
       "      <td>530877.0</td>\n",
       "      <td>18.216</td>\n",
       "      <td>7.8</td>\n",
       "    </tr>\n",
       "    <tr>\n",
       "      <th>tm70993</th>\n",
       "      <td>Life of Brian</td>\n",
       "      <td>MOVIE</td>\n",
       "      <td>Brian Cohen is an average young Jewish man, bu...</td>\n",
       "      <td>1979</td>\n",
       "      <td>R</td>\n",
       "      <td>94</td>\n",
       "      <td>['comedy']</td>\n",
       "      <td>['GB']</td>\n",
       "      <td>NaN</td>\n",
       "      <td>tt0079470</td>\n",
       "      <td>8.0</td>\n",
       "      <td>392419.0</td>\n",
       "      <td>17.505</td>\n",
       "      <td>7.8</td>\n",
       "    </tr>\n",
       "    <tr>\n",
       "      <th>tm190788</th>\n",
       "      <td>The Exorcist</td>\n",
       "      <td>MOVIE</td>\n",
       "      <td>12-year-old Regan MacNeil begins to adapt an e...</td>\n",
       "      <td>1973</td>\n",
       "      <td>R</td>\n",
       "      <td>133</td>\n",
       "      <td>['horror']</td>\n",
       "      <td>['US']</td>\n",
       "      <td>NaN</td>\n",
       "      <td>tt0070047</td>\n",
       "      <td>8.1</td>\n",
       "      <td>391942.0</td>\n",
       "      <td>95.337</td>\n",
       "      <td>7.7</td>\n",
       "    </tr>\n",
       "  </tbody>\n",
       "</table>\n",
       "</div>"
      ],
      "text/plain": [
       "                                        title   type  \\\n",
       "id                                                     \n",
       "ts300399  Five Came Back: The Reference Films   SHOW   \n",
       "tm84618                           Taxi Driver  MOVIE   \n",
       "tm127384      Monty Python and the Holy Grail  MOVIE   \n",
       "tm70993                         Life of Brian  MOVIE   \n",
       "tm190788                         The Exorcist  MOVIE   \n",
       "\n",
       "                                                description  release_year  \\\n",
       "id                                                                          \n",
       "ts300399  This collection includes 12 World War II-era p...          1945   \n",
       "tm84618   A mentally unstable Vietnam War veteran works ...          1976   \n",
       "tm127384  King Arthur, accompanied by his squire, recrui...          1975   \n",
       "tm70993   Brian Cohen is an average young Jewish man, bu...          1979   \n",
       "tm190788  12-year-old Regan MacNeil begins to adapt an e...          1973   \n",
       "\n",
       "         age_certification  runtime                 genres  \\\n",
       "id                                                           \n",
       "ts300399             TV-MA       48      ['documentation']   \n",
       "tm84618                  R      113     ['crime', 'drama']   \n",
       "tm127384                PG       91  ['comedy', 'fantasy']   \n",
       "tm70993                  R       94             ['comedy']   \n",
       "tm190788                 R      133             ['horror']   \n",
       "\n",
       "         production_countries  seasons    imdb_id  imdb_score  imdb_votes  \\\n",
       "id                                                                          \n",
       "ts300399               ['US']      1.0        NaN         NaN         NaN   \n",
       "tm84618                ['US']      NaN  tt0075314         8.3    795222.0   \n",
       "tm127384               ['GB']      NaN  tt0071853         8.2    530877.0   \n",
       "tm70993                ['GB']      NaN  tt0079470         8.0    392419.0   \n",
       "tm190788               ['US']      NaN  tt0070047         8.1    391942.0   \n",
       "\n",
       "          tmdb_popularity  tmdb_score  \n",
       "id                                     \n",
       "ts300399            0.600         NaN  \n",
       "tm84618            27.612         8.2  \n",
       "tm127384           18.216         7.8  \n",
       "tm70993            17.505         7.8  \n",
       "tm190788           95.337         7.7  "
      ]
     },
     "execution_count": 3,
     "metadata": {},
     "output_type": "execute_result"
    }
   ],
   "source": [
    "my_file=\"C:/Users/kumar/Downloads/titles.csv\"\n",
    "data= pd.read_csv(my_file,index_col=\"id\")\n",
    "data.head(5)"
   ]
  },
  {
   "cell_type": "code",
   "execution_count": 4,
   "metadata": {
    "execution": {
     "iopub.execute_input": "2022-08-17T21:59:07.944441Z",
     "iopub.status.busy": "2022-08-17T21:59:07.944009Z",
     "iopub.status.idle": "2022-08-17T21:59:07.954175Z",
     "shell.execute_reply": "2022-08-17T21:59:07.952692Z",
     "shell.execute_reply.started": "2022-08-17T21:59:07.944401Z"
    }
   },
   "outputs": [
    {
     "data": {
      "text/plain": [
       "Index(['title', 'type', 'description', 'release_year', 'age_certification',\n",
       "       'runtime', 'genres', 'production_countries', 'seasons', 'imdb_id',\n",
       "       'imdb_score', 'imdb_votes', 'tmdb_popularity', 'tmdb_score'],\n",
       "      dtype='object')"
      ]
     },
     "execution_count": 4,
     "metadata": {},
     "output_type": "execute_result"
    }
   ],
   "source": [
    "data.columns"
   ]
  },
  {
   "cell_type": "code",
   "execution_count": 5,
   "metadata": {
    "execution": {
     "iopub.execute_input": "2022-08-17T21:59:09.598075Z",
     "iopub.status.busy": "2022-08-17T21:59:09.597644Z",
     "iopub.status.idle": "2022-08-17T21:59:09.605135Z",
     "shell.execute_reply": "2022-08-17T21:59:09.603783Z",
     "shell.execute_reply.started": "2022-08-17T21:59:09.598040Z"
    }
   },
   "outputs": [
    {
     "data": {
      "text/plain": [
       "(5806, 14)"
      ]
     },
     "execution_count": 5,
     "metadata": {},
     "output_type": "execute_result"
    }
   ],
   "source": [
    "data.shape"
   ]
  },
  {
   "cell_type": "markdown",
   "metadata": {},
   "source": [
    "As we can see, there are a few columns that are not necesary to our analysis. We will delete the description, imdb_id, imdb_votes, tmdb_popularity, and seasons columns."
   ]
  },
  {
   "cell_type": "code",
   "execution_count": 6,
   "metadata": {
    "execution": {
     "iopub.execute_input": "2022-08-17T21:59:19.286483Z",
     "iopub.status.busy": "2022-08-17T21:59:19.286073Z",
     "iopub.status.idle": "2022-08-17T21:59:19.300481Z",
     "shell.execute_reply": "2022-08-17T21:59:19.299202Z",
     "shell.execute_reply.started": "2022-08-17T21:59:19.286449Z"
    }
   },
   "outputs": [],
   "source": [
    "data.drop(['description','imdb_id','imdb_votes','tmdb_popularity', 'seasons'], axis=1,inplace=True)"
   ]
  },
  {
   "cell_type": "markdown",
   "metadata": {},
   "source": [
    "Now let us preview the first 5 rows again."
   ]
  },
  {
   "cell_type": "code",
   "execution_count": 7,
   "metadata": {
    "execution": {
     "iopub.execute_input": "2022-08-17T21:59:22.535725Z",
     "iopub.status.busy": "2022-08-17T21:59:22.534868Z",
     "iopub.status.idle": "2022-08-17T21:59:22.552246Z",
     "shell.execute_reply": "2022-08-17T21:59:22.551047Z",
     "shell.execute_reply.started": "2022-08-17T21:59:22.535681Z"
    }
   },
   "outputs": [
    {
     "data": {
      "text/html": [
       "<div>\n",
       "<style scoped>\n",
       "    .dataframe tbody tr th:only-of-type {\n",
       "        vertical-align: middle;\n",
       "    }\n",
       "\n",
       "    .dataframe tbody tr th {\n",
       "        vertical-align: top;\n",
       "    }\n",
       "\n",
       "    .dataframe thead th {\n",
       "        text-align: right;\n",
       "    }\n",
       "</style>\n",
       "<table border=\"1\" class=\"dataframe\">\n",
       "  <thead>\n",
       "    <tr style=\"text-align: right;\">\n",
       "      <th></th>\n",
       "      <th>title</th>\n",
       "      <th>type</th>\n",
       "      <th>release_year</th>\n",
       "      <th>age_certification</th>\n",
       "      <th>runtime</th>\n",
       "      <th>genres</th>\n",
       "      <th>production_countries</th>\n",
       "      <th>imdb_score</th>\n",
       "      <th>tmdb_score</th>\n",
       "    </tr>\n",
       "    <tr>\n",
       "      <th>id</th>\n",
       "      <th></th>\n",
       "      <th></th>\n",
       "      <th></th>\n",
       "      <th></th>\n",
       "      <th></th>\n",
       "      <th></th>\n",
       "      <th></th>\n",
       "      <th></th>\n",
       "      <th></th>\n",
       "    </tr>\n",
       "  </thead>\n",
       "  <tbody>\n",
       "    <tr>\n",
       "      <th>ts300399</th>\n",
       "      <td>Five Came Back: The Reference Films</td>\n",
       "      <td>SHOW</td>\n",
       "      <td>1945</td>\n",
       "      <td>TV-MA</td>\n",
       "      <td>48</td>\n",
       "      <td>['documentation']</td>\n",
       "      <td>['US']</td>\n",
       "      <td>NaN</td>\n",
       "      <td>NaN</td>\n",
       "    </tr>\n",
       "    <tr>\n",
       "      <th>tm84618</th>\n",
       "      <td>Taxi Driver</td>\n",
       "      <td>MOVIE</td>\n",
       "      <td>1976</td>\n",
       "      <td>R</td>\n",
       "      <td>113</td>\n",
       "      <td>['crime', 'drama']</td>\n",
       "      <td>['US']</td>\n",
       "      <td>8.3</td>\n",
       "      <td>8.2</td>\n",
       "    </tr>\n",
       "    <tr>\n",
       "      <th>tm127384</th>\n",
       "      <td>Monty Python and the Holy Grail</td>\n",
       "      <td>MOVIE</td>\n",
       "      <td>1975</td>\n",
       "      <td>PG</td>\n",
       "      <td>91</td>\n",
       "      <td>['comedy', 'fantasy']</td>\n",
       "      <td>['GB']</td>\n",
       "      <td>8.2</td>\n",
       "      <td>7.8</td>\n",
       "    </tr>\n",
       "    <tr>\n",
       "      <th>tm70993</th>\n",
       "      <td>Life of Brian</td>\n",
       "      <td>MOVIE</td>\n",
       "      <td>1979</td>\n",
       "      <td>R</td>\n",
       "      <td>94</td>\n",
       "      <td>['comedy']</td>\n",
       "      <td>['GB']</td>\n",
       "      <td>8.0</td>\n",
       "      <td>7.8</td>\n",
       "    </tr>\n",
       "    <tr>\n",
       "      <th>tm190788</th>\n",
       "      <td>The Exorcist</td>\n",
       "      <td>MOVIE</td>\n",
       "      <td>1973</td>\n",
       "      <td>R</td>\n",
       "      <td>133</td>\n",
       "      <td>['horror']</td>\n",
       "      <td>['US']</td>\n",
       "      <td>8.1</td>\n",
       "      <td>7.7</td>\n",
       "    </tr>\n",
       "  </tbody>\n",
       "</table>\n",
       "</div>"
      ],
      "text/plain": [
       "                                        title   type  release_year  \\\n",
       "id                                                                   \n",
       "ts300399  Five Came Back: The Reference Films   SHOW          1945   \n",
       "tm84618                           Taxi Driver  MOVIE          1976   \n",
       "tm127384      Monty Python and the Holy Grail  MOVIE          1975   \n",
       "tm70993                         Life of Brian  MOVIE          1979   \n",
       "tm190788                         The Exorcist  MOVIE          1973   \n",
       "\n",
       "         age_certification  runtime                 genres  \\\n",
       "id                                                           \n",
       "ts300399             TV-MA       48      ['documentation']   \n",
       "tm84618                  R      113     ['crime', 'drama']   \n",
       "tm127384                PG       91  ['comedy', 'fantasy']   \n",
       "tm70993                  R       94             ['comedy']   \n",
       "tm190788                 R      133             ['horror']   \n",
       "\n",
       "         production_countries  imdb_score  tmdb_score  \n",
       "id                                                     \n",
       "ts300399               ['US']         NaN         NaN  \n",
       "tm84618                ['US']         8.3         8.2  \n",
       "tm127384               ['GB']         8.2         7.8  \n",
       "tm70993                ['GB']         8.0         7.8  \n",
       "tm190788               ['US']         8.1         7.7  "
      ]
     },
     "execution_count": 7,
     "metadata": {},
     "output_type": "execute_result"
    }
   ],
   "source": [
    "data.head(5)"
   ]
  },
  {
   "cell_type": "markdown",
   "metadata": {},
   "source": [
    "Next we will check if there are any duplicated or null value rows."
   ]
  },
  {
   "cell_type": "code",
   "execution_count": 8,
   "metadata": {
    "execution": {
     "iopub.execute_input": "2022-08-17T21:59:25.810967Z",
     "iopub.status.busy": "2022-08-17T21:59:25.810221Z",
     "iopub.status.idle": "2022-08-17T21:59:25.836901Z",
     "shell.execute_reply": "2022-08-17T21:59:25.835700Z",
     "shell.execute_reply.started": "2022-08-17T21:59:25.810924Z"
    }
   },
   "outputs": [
    {
     "data": {
      "text/plain": [
       "0"
      ]
     },
     "execution_count": 8,
     "metadata": {},
     "output_type": "execute_result"
    }
   ],
   "source": [
    "data.duplicated().sum()"
   ]
  },
  {
   "cell_type": "code",
   "execution_count": 9,
   "metadata": {
    "execution": {
     "iopub.execute_input": "2022-08-17T21:59:27.953777Z",
     "iopub.status.busy": "2022-08-17T21:59:27.953083Z",
     "iopub.status.idle": "2022-08-17T21:59:27.964750Z",
     "shell.execute_reply": "2022-08-17T21:59:27.963569Z",
     "shell.execute_reply.started": "2022-08-17T21:59:27.953736Z"
    }
   },
   "outputs": [
    {
     "data": {
      "text/plain": [
       "title                      1\n",
       "type                       0\n",
       "release_year               0\n",
       "age_certification       2610\n",
       "runtime                    0\n",
       "genres                     0\n",
       "production_countries       0\n",
       "imdb_score               523\n",
       "tmdb_score               318\n",
       "dtype: int64"
      ]
     },
     "execution_count": 9,
     "metadata": {},
     "output_type": "execute_result"
    }
   ],
   "source": [
    "data.isnull().sum()"
   ]
  },
  {
   "cell_type": "markdown",
   "metadata": {},
   "source": [
    "We will drop any rows that have null values in them."
   ]
  },
  {
   "cell_type": "code",
   "execution_count": 10,
   "metadata": {
    "execution": {
     "iopub.execute_input": "2022-08-17T21:59:30.465559Z",
     "iopub.status.busy": "2022-08-17T21:59:30.465171Z",
     "iopub.status.idle": "2022-08-17T21:59:30.482701Z",
     "shell.execute_reply": "2022-08-17T21:59:30.481523Z",
     "shell.execute_reply.started": "2022-08-17T21:59:30.465518Z"
    }
   },
   "outputs": [
    {
     "data": {
      "text/plain": [
       "title                   0\n",
       "type                    0\n",
       "release_year            0\n",
       "age_certification       0\n",
       "runtime                 0\n",
       "genres                  0\n",
       "production_countries    0\n",
       "imdb_score              0\n",
       "tmdb_score              0\n",
       "dtype: int64"
      ]
     },
     "execution_count": 10,
     "metadata": {},
     "output_type": "execute_result"
    }
   ],
   "source": [
    "data.dropna(axis=0,how='any',inplace=True)\n",
    "data.isnull().sum()"
   ]
  },
  {
   "cell_type": "markdown",
   "metadata": {},
   "source": [
    "Let's look at a quick summary of our data, including mean, minimum, and maximum."
   ]
  },
  {
   "cell_type": "code",
   "execution_count": 11,
   "metadata": {
    "execution": {
     "iopub.execute_input": "2022-08-17T21:59:32.726848Z",
     "iopub.status.busy": "2022-08-17T21:59:32.726208Z",
     "iopub.status.idle": "2022-08-17T21:59:32.757224Z",
     "shell.execute_reply": "2022-08-17T21:59:32.756004Z",
     "shell.execute_reply.started": "2022-08-17T21:59:32.726812Z"
    }
   },
   "outputs": [
    {
     "data": {
      "text/html": [
       "<div>\n",
       "<style scoped>\n",
       "    .dataframe tbody tr th:only-of-type {\n",
       "        vertical-align: middle;\n",
       "    }\n",
       "\n",
       "    .dataframe tbody tr th {\n",
       "        vertical-align: top;\n",
       "    }\n",
       "\n",
       "    .dataframe thead th {\n",
       "        text-align: right;\n",
       "    }\n",
       "</style>\n",
       "<table border=\"1\" class=\"dataframe\">\n",
       "  <thead>\n",
       "    <tr style=\"text-align: right;\">\n",
       "      <th></th>\n",
       "      <th>release_year</th>\n",
       "      <th>runtime</th>\n",
       "      <th>imdb_score</th>\n",
       "      <th>tmdb_score</th>\n",
       "    </tr>\n",
       "  </thead>\n",
       "  <tbody>\n",
       "    <tr>\n",
       "      <th>count</th>\n",
       "      <td>2909.000000</td>\n",
       "      <td>2909.000000</td>\n",
       "      <td>2909.000000</td>\n",
       "      <td>2909.000000</td>\n",
       "    </tr>\n",
       "    <tr>\n",
       "      <th>mean</th>\n",
       "      <td>2015.562393</td>\n",
       "      <td>69.345480</td>\n",
       "      <td>6.727191</td>\n",
       "      <td>7.049330</td>\n",
       "    </tr>\n",
       "    <tr>\n",
       "      <th>std</th>\n",
       "      <td>7.065471</td>\n",
       "      <td>40.432777</td>\n",
       "      <td>1.124294</td>\n",
       "      <td>1.079251</td>\n",
       "    </tr>\n",
       "    <tr>\n",
       "      <th>min</th>\n",
       "      <td>1964.000000</td>\n",
       "      <td>0.000000</td>\n",
       "      <td>1.600000</td>\n",
       "      <td>1.000000</td>\n",
       "    </tr>\n",
       "    <tr>\n",
       "      <th>25%</th>\n",
       "      <td>2014.000000</td>\n",
       "      <td>36.000000</td>\n",
       "      <td>6.100000</td>\n",
       "      <td>6.400000</td>\n",
       "    </tr>\n",
       "    <tr>\n",
       "      <th>50%</th>\n",
       "      <td>2018.000000</td>\n",
       "      <td>57.000000</td>\n",
       "      <td>6.800000</td>\n",
       "      <td>7.100000</td>\n",
       "    </tr>\n",
       "    <tr>\n",
       "      <th>75%</th>\n",
       "      <td>2020.000000</td>\n",
       "      <td>101.000000</td>\n",
       "      <td>7.500000</td>\n",
       "      <td>7.700000</td>\n",
       "    </tr>\n",
       "    <tr>\n",
       "      <th>max</th>\n",
       "      <td>2022.000000</td>\n",
       "      <td>229.000000</td>\n",
       "      <td>9.500000</td>\n",
       "      <td>10.000000</td>\n",
       "    </tr>\n",
       "  </tbody>\n",
       "</table>\n",
       "</div>"
      ],
      "text/plain": [
       "       release_year      runtime   imdb_score   tmdb_score\n",
       "count   2909.000000  2909.000000  2909.000000  2909.000000\n",
       "mean    2015.562393    69.345480     6.727191     7.049330\n",
       "std        7.065471    40.432777     1.124294     1.079251\n",
       "min     1964.000000     0.000000     1.600000     1.000000\n",
       "25%     2014.000000    36.000000     6.100000     6.400000\n",
       "50%     2018.000000    57.000000     6.800000     7.100000\n",
       "75%     2020.000000   101.000000     7.500000     7.700000\n",
       "max     2022.000000   229.000000     9.500000    10.000000"
      ]
     },
     "execution_count": 11,
     "metadata": {},
     "output_type": "execute_result"
    }
   ],
   "source": [
    "data.describe()"
   ]
  },
  {
   "cell_type": "markdown",
   "metadata": {},
   "source": [
    "We are now ready to begin our analysis. \n",
    "\n",
    "We will compare the types of media on Netflix."
   ]
  },
  {
   "cell_type": "code",
   "execution_count": 12,
   "metadata": {
    "execution": {
     "iopub.execute_input": "2022-08-17T21:59:36.050824Z",
     "iopub.status.busy": "2022-08-17T21:59:36.050406Z",
     "iopub.status.idle": "2022-08-17T21:59:36.059911Z",
     "shell.execute_reply": "2022-08-17T21:59:36.059036Z",
     "shell.execute_reply.started": "2022-08-17T21:59:36.050787Z"
    }
   },
   "outputs": [
    {
     "data": {
      "text/plain": [
       "SHOW     1598\n",
       "MOVIE    1311\n",
       "Name: type, dtype: int64"
      ]
     },
     "execution_count": 12,
     "metadata": {},
     "output_type": "execute_result"
    }
   ],
   "source": [
    "type_count = data.type.value_counts()\n",
    "type_count.head()"
   ]
  },
  {
   "cell_type": "code",
   "execution_count": 13,
   "metadata": {
    "execution": {
     "iopub.execute_input": "2022-08-17T22:02:02.523929Z",
     "iopub.status.busy": "2022-08-17T22:02:02.522848Z",
     "iopub.status.idle": "2022-08-17T22:02:02.689878Z",
     "shell.execute_reply": "2022-08-17T22:02:02.688686Z",
     "shell.execute_reply.started": "2022-08-17T22:02:02.523884Z"
    }
   },
   "outputs": [
    {
     "data": {
      "image/png": "[encoded data removed]",
      "text/plain": [
       "<Figure size 360x360 with 1 Axes>"
      ]
     },
     "metadata": {
      "needs_background": "light"
     },
     "output_type": "display_data"
    }
   ],
   "source": [
    "plt.figure(figsize=(5,5))\n",
    "type_color = sns.color_palette(\"pastel\")\n",
    "sns.countplot(data=data, x='type',palette=type_color)\n",
    "plt.title(\"Comparison of Movies vs Shows\")\n",
    "plt.show()"
   ]
  },
  {
   "cell_type": "markdown",
   "metadata": {},
   "source": [
    "From the graph, we can see that Netflix produces and streams more TV Shows than movies."
   ]
  },
  {
   "cell_type": "markdown",
   "metadata": {},
   "source": [
    "Now, we want to discover the most popular genre of TV shows and movies that is on Netflix."
   ]
  },
  {
   "cell_type": "code",
   "execution_count": 14,
   "metadata": {
    "execution": {
     "iopub.execute_input": "2022-08-17T22:47:49.922161Z",
     "iopub.status.busy": "2022-08-17T22:47:49.921735Z",
     "iopub.status.idle": "2022-08-17T22:47:49.932917Z",
     "shell.execute_reply": "2022-08-17T22:47:49.931462Z",
     "shell.execute_reply.started": "2022-08-17T22:47:49.922127Z"
    }
   },
   "outputs": [
    {
     "data": {
      "text/plain": [
       "['comedy']                        152\n",
       "['drama']                          92\n",
       "['documentation']                  92\n",
       "['reality']                        81\n",
       "['comedy', 'drama']                76\n",
       "['drama', 'romance']               59\n",
       "['drama', 'comedy']                54\n",
       "['crime', 'documentation']         42\n",
       "['comedy', 'drama', 'romance']     35\n",
       "['drama', 'comedy', 'romance']     34\n",
       "Name: genres, dtype: int64"
      ]
     },
     "execution_count": 14,
     "metadata": {},
     "output_type": "execute_result"
    }
   ],
   "source": [
    "genre_count = data.genres.value_counts()\n",
    "genre_count.head(10)"
   ]
  },
  {
   "cell_type": "markdown",
   "metadata": {},
   "source": [
    "When we obtain a count of the genres, it seems that there are some shows and movies that have multiple genres. This is an issue because the multiple genres are contained within the brackets. As a result, we will need to parse the genre column."
   ]
  },
  {
   "cell_type": "code",
   "execution_count": 15,
   "metadata": {
    "execution": {
     "iopub.execute_input": "2022-08-17T22:54:32.858595Z",
     "iopub.status.busy": "2022-08-17T22:54:32.857829Z",
     "iopub.status.idle": "2022-08-17T22:54:32.880861Z",
     "shell.execute_reply": "2022-08-17T22:54:32.879669Z",
     "shell.execute_reply.started": "2022-08-17T22:54:32.858550Z"
    }
   },
   "outputs": [
    {
     "data": {
      "text/plain": [
       "{'crime': 571,\n",
       " 'drama': 1587,\n",
       " 'comedy': 1142,\n",
       " 'fantasy': 474,\n",
       " 'horror': 233,\n",
       " 'european': 201,\n",
       " 'thriller': 717,\n",
       " 'action': 695,\n",
       " 'music': 106,\n",
       " 'romance': 497,\n",
       " 'family': 423,\n",
       " 'western': 32,\n",
       " 'animation': 467,\n",
       " 'documentation': 392,\n",
       " 'history': 142,\n",
       " 'scifi': 455,\n",
       " 'war': 97,\n",
       " 'reality': 160,\n",
       " 'sport': 113,\n",
       " '': 2}"
      ]
     },
     "execution_count": 15,
     "metadata": {},
     "output_type": "execute_result"
    }
   ],
   "source": [
    "genres = {}\n",
    "\n",
    "def get_genres(row):\n",
    "  parsed = (str(row)[1:-1]).split(\",\")\n",
    "\n",
    "  for i in range(len(parsed)):\n",
    "    parsed[i] = parsed[i].strip()\n",
    "    parsed[i] = parsed[i][1:-1]\n",
    "\n",
    "  for i in parsed:\n",
    "    if i not in genres.keys():\n",
    "      genres[i] = 0\n",
    "      continue\n",
    "    genres[i] += 1\n",
    "\n",
    "  return row\n",
    "data['genres'] = data['genres'].map(get_genres)\n",
    "genres"
   ]
  },
  {
   "cell_type": "code",
   "execution_count": 16,
   "metadata": {
    "execution": {
     "iopub.execute_input": "2022-08-17T22:54:36.599032Z",
     "iopub.status.busy": "2022-08-17T22:54:36.598000Z",
     "iopub.status.idle": "2022-08-17T22:54:36.606251Z",
     "shell.execute_reply": "2022-08-17T22:54:36.604814Z",
     "shell.execute_reply.started": "2022-08-17T22:54:36.598977Z"
    }
   },
   "outputs": [
    {
     "name": "stdout",
     "output_type": "stream",
     "text": [
      "('crime', 571)\n",
      "('drama', 1587)\n",
      "('comedy', 1142)\n",
      "('fantasy', 474)\n",
      "('horror', 233)\n",
      "('european', 201)\n",
      "('thriller', 717)\n",
      "('action', 695)\n",
      "('music', 106)\n",
      "('romance', 497)\n",
      "('family', 423)\n",
      "('western', 32)\n",
      "('animation', 467)\n",
      "('documentation', 392)\n",
      "('history', 142)\n",
      "('scifi', 455)\n",
      "('war', 97)\n",
      "('reality', 160)\n",
      "('sport', 113)\n",
      "('', 2)\n"
     ]
    }
   ],
   "source": [
    "for genre in genres.items():\n",
    "    print (genre or 'none')"
   ]
  },
  {
   "cell_type": "markdown",
   "metadata": {},
   "source": [
    "\n",
    "To create a graph, we will need to use the list() function for the x and y axis."
   ]
  },
  {
   "cell_type": "code",
   "execution_count": 17,
   "metadata": {
    "execution": {
     "iopub.execute_input": "2022-08-17T22:54:45.665038Z",
     "iopub.status.busy": "2022-08-17T22:54:45.664650Z",
     "iopub.status.idle": "2022-08-17T22:54:45.997036Z",
     "shell.execute_reply": "2022-08-17T22:54:45.995970Z",
     "shell.execute_reply.started": "2022-08-17T22:54:45.665005Z"
    }
   },
   "outputs": [
    {
     "data": {
      "image/png": "[encoded data removed]",
      "text/plain": [
       "<Figure size 1800x720 with 1 Axes>"
      ]
     },
     "metadata": {
      "needs_background": "light"
     },
     "output_type": "display_data"
    }
   ],
   "source": [
    "x_axis = list(genres.keys())\n",
    "y_axis = list(genres.values())\n",
    "\n",
    "genre_color = sns.color_palette(\"pastel\")\n",
    "plt.figure(figsize=(25,10))\n",
    "plt.bar(x_axis,y_axis,color = genre_color)\n",
    "plt.title(\"Most Popular Genres\")\n",
    "plt.xlabel(\"Genre\")\n",
    "plt.ylabel(\"Count\")\n",
    "plt.show()"
   ]
  },
  {
   "cell_type": "markdown",
   "metadata": {},
   "source": [
    "Drama is the leading genre of TV shows and movies in Netflix, with over 1500 titles. Comedy follows right after, but still has less than 1000."
   ]
  },
  {
   "cell_type": "markdown",
   "metadata": {},
   "source": [
    "Next, we want to view the amount of titles that released during each year. Netflix became popularized in 2007, so we will only view the years 2007 - 2022.\n",
    "\n",
    "Keep in mind that these titles do not include shows or movies that were released before, they will only be contemporary titles."
   ]
  },
  {
   "cell_type": "code",
   "execution_count": 18,
   "metadata": {
    "execution": {
     "iopub.execute_input": "2022-08-17T22:57:21.765275Z",
     "iopub.status.busy": "2022-08-17T22:57:21.764874Z",
     "iopub.status.idle": "2022-08-17T22:57:21.775200Z",
     "shell.execute_reply": "2022-08-17T22:57:21.774079Z",
     "shell.execute_reply.started": "2022-08-17T22:57:21.765243Z"
    }
   },
   "outputs": [
    {
     "data": {
      "text/plain": [
       "2018    398\n",
       "2021    372\n",
       "2019    344\n",
       "2020    339\n",
       "2017    258\n",
       "2016    196\n",
       "2015    147\n",
       "2022    115\n",
       "2014     91\n",
       "2013     80\n",
       "2012     71\n",
       "2011     68\n",
       "2010     48\n",
       "2009     46\n",
       "2008     38\n",
       "2007     34\n",
       "Name: release_year, dtype: int64"
      ]
     },
     "execution_count": 18,
     "metadata": {},
     "output_type": "execute_result"
    }
   ],
   "source": [
    "year_count = data.release_year.value_counts()\n",
    "year_count.head(16)"
   ]
  },
  {
   "cell_type": "code",
   "execution_count": 19,
   "metadata": {
    "execution": {
     "iopub.execute_input": "2022-08-17T23:00:07.867566Z",
     "iopub.status.busy": "2022-08-17T23:00:07.867174Z",
     "iopub.status.idle": "2022-08-17T23:00:08.129818Z",
     "shell.execute_reply": "2022-08-17T23:00:08.128688Z",
     "shell.execute_reply.started": "2022-08-17T23:00:07.867532Z"
    }
   },
   "outputs": [
    {
     "data": {
      "image/png": "[encoded data removed]",
      "text/plain": [
       "<Figure size 1080x720 with 1 Axes>"
      ]
     },
     "metadata": {
      "needs_background": "light"
     },
     "output_type": "display_data"
    }
   ],
   "source": [
    "plt.figure(figsize=(15,10))\n",
    "sns.lineplot(data=year_count)\n",
    "plt.xlim(2007,2022)\n",
    "plt.xlabel('release year')\n",
    "plt.ylabel('total amount of releases')\n",
    "plt.title(\"Total Amount of Releases Since Netflix's Streaming Services\")\n",
    "plt.show()"
   ]
  },
  {
   "cell_type": "markdown",
   "metadata": {},
   "source": [
    "The movies and shows released at the time of 2018 and 2021 were the most popular. Netflix's rise of viewship in 2020 could be the result of the pandemic and lockdown, when people were mandated to stay home."
   ]
  },
  {
   "cell_type": "markdown",
   "metadata": {},
   "source": [
    "We will now view the what type of age certifications TV shows and movies most released.\n",
    "\n",
    "The ratings for movies are as followed:\n",
    "* G (General Audiences) - All ages admitted\n",
    "* PG (Parental Guidance Suggested) - Some material may not be suitable for children\n",
    "* PG-13 (Parents Strongly Cautioned) - Some material may be inappropriate for children under 13\n",
    "* R (Restricted) - Under 17 requires accompanying parent or adult guardian\n",
    "* NC-17 (Adults Only) - No one 17 and under admitted\n",
    "\n",
    "The ratings for TV shows are as followed:\n",
    "* TV-G (General Audience) - Suitable for all ages\n",
    "* TV-Y (All Children) - Designed to be appropriate for all children, including children from ages 2-6\n",
    "* TV-Y7 (Directed to Older Children) - Designed for children ages 7 and above\n",
    "* TV-PG (Parental Guidance Suggested) - Some material may not be suitable for children\n",
    "* TV-14 (Parents Strongly Cautioned) - Some material may not be suitable for children under 14\n",
    "* TV-MA (Mature Audiences Only) - Designed only for adults and not suitable for children under 17"
   ]
  },
  {
   "cell_type": "code",
   "execution_count": 20,
   "metadata": {
    "execution": {
     "iopub.execute_input": "2022-08-17T23:04:10.268492Z",
     "iopub.status.busy": "2022-08-17T23:04:10.267441Z",
     "iopub.status.idle": "2022-08-17T23:04:10.277642Z",
     "shell.execute_reply": "2022-08-17T23:04:10.276670Z",
     "shell.execute_reply.started": "2022-08-17T23:04:10.268449Z"
    }
   },
   "outputs": [
    {
     "data": {
      "text/plain": [
       "TV-MA    773\n",
       "R        547\n",
       "PG-13    420\n",
       "TV-14    413\n",
       "PG       236\n",
       "TV-PG    160\n",
       "TV-Y7     98\n",
       "G         95\n",
       "TV-Y      83\n",
       "TV-G      71\n",
       "NC-17     13\n",
       "Name: age_certification, dtype: int64"
      ]
     },
     "execution_count": 20,
     "metadata": {},
     "output_type": "execute_result"
    }
   ],
   "source": [
    "age_ratings = data.age_certification.value_counts()\n",
    "age_ratings.head(12)"
   ]
  },
  {
   "cell_type": "code",
   "execution_count": 33,
   "metadata": {
    "execution": {
     "iopub.execute_input": "2022-08-17T23:04:18.228139Z",
     "iopub.status.busy": "2022-08-17T23:04:18.227040Z",
     "iopub.status.idle": "2022-08-17T23:04:18.466880Z",
     "shell.execute_reply": "2022-08-17T23:04:18.465677Z",
     "shell.execute_reply.started": "2022-08-17T23:04:18.228098Z"
    }
   },
   "outputs": [
    {
     "name": "stderr",
     "output_type": "stream",
     "text": [
      "C:\\Users\\kumar\\anaconda3\\lib\\site-packages\\seaborn\\_decorators.py:36: FutureWarning: Pass the following variable as a keyword arg: x. From version 0.12, the only valid positional argument will be `data`, and passing other arguments without an explicit keyword will result in an error or misinterpretation.\n",
      "  warnings.warn(\n"
     ]
    },
    {
     "data": {
      "image/png": "[encoded data removed]",
      "text/plain": [
       "<Figure size 720x720 with 1 Axes>"
      ]
     },
     "metadata": {
      "needs_background": "light"
     },
     "output_type": "display_data"
    }
   ],
   "source": [
    "plt.figure(figsize=(10,10))\n",
    "sns.countplot(data['age_certification'])\n",
    "plt.title(\"Netflix's Age Content Ratings\")\n",
    "plt.show()"
   ]
  },
  {
   "cell_type": "markdown",
   "metadata": {},
   "source": [
    "Most TV shows have an age certification of TV-MA while most movies have an age certification of R. This makes sense as Netflix's main demographic is adults or people over the age of 17."
   ]
  },
  {
   "cell_type": "markdown",
   "metadata": {},
   "source": [
    "Let's now view where most of the TV shows and movies are produced from by country."
   ]
  },
  {
   "cell_type": "code",
   "execution_count": 23,
   "metadata": {
    "execution": {
     "iopub.execute_input": "2022-08-17T23:22:43.717237Z",
     "iopub.status.busy": "2022-08-17T23:22:43.716091Z",
     "iopub.status.idle": "2022-08-17T23:22:43.728876Z",
     "shell.execute_reply": "2022-08-17T23:22:43.727579Z",
     "shell.execute_reply.started": "2022-08-17T23:22:43.717184Z"
    }
   },
   "outputs": [
    {
     "data": {
      "text/plain": [
       "['US']    1248\n",
       "['IN']     222\n",
       "['JP']     189\n",
       "['GB']     138\n",
       "['KR']     111\n",
       "['ES']      75\n",
       "['CA']      55\n",
       "['FR']      53\n",
       "['TR']      48\n",
       "['MX']      43\n",
       "Name: production_countries, dtype: int64"
      ]
     },
     "execution_count": 23,
     "metadata": {},
     "output_type": "execute_result"
    }
   ],
   "source": [
    "countries_count = data.production_countries.value_counts()\n",
    "countries_count.head(10)"
   ]
  },
  {
   "cell_type": "code",
   "execution_count": 24,
   "metadata": {
    "execution": {
     "iopub.execute_input": "2022-08-17T23:22:52.959882Z",
     "iopub.status.busy": "2022-08-17T23:22:52.959459Z",
     "iopub.status.idle": "2022-08-17T23:22:53.151161Z",
     "shell.execute_reply": "2022-08-17T23:22:53.149957Z",
     "shell.execute_reply.started": "2022-08-17T23:22:52.959845Z"
    }
   },
   "outputs": [
    {
     "data": {
      "image/png": "[encoded data removed]",
      "text/plain": [
       "<Figure size 432x288 with 1 Axes>"
      ]
     },
     "metadata": {},
     "output_type": "display_data"
    }
   ],
   "source": [
    "\n",
    "values = [1275,213,187,137,116,77,54,53,49,46]\n",
    "labels = ['US','IN','JP','GB','KR','ES','FR','CA','TR','MX']\n",
    "pie_colors = sns.color_palette('pastel')\n",
    "plt.pie(values, labels=labels, colors=pie_colors, autopct='%.0f%%', radius=2)\n",
    "plt.title(\"Countries Producing the Most Movies and Shows\",y=1.50)\n",
    "plt.show()"
   ]
  },
  {
   "cell_type": "markdown",
   "metadata": {},
   "source": [
    "The United States of America produces more than half of the TV shows and movies found on Netflix, followed by India and Japan. As a streaming service company founded in the United States, it is reasonable that the majority of titles would be produced from there."
   ]
  },
  {
   "cell_type": "markdown",
   "metadata": {},
   "source": [
    "Now we will compare based on IMDB Ratings."
   ]
  },
  {
   "cell_type": "code",
   "execution_count": 25,
   "metadata": {
    "execution": {
     "iopub.execute_input": "2022-08-17T23:47:23.190711Z",
     "iopub.status.busy": "2022-08-17T23:47:23.190247Z",
     "iopub.status.idle": "2022-08-17T23:47:23.208000Z",
     "shell.execute_reply": "2022-08-17T23:47:23.206916Z",
     "shell.execute_reply.started": "2022-08-17T23:47:23.190670Z"
    }
   },
   "outputs": [
    {
     "data": {
      "text/html": [
       "<div>\n",
       "<style scoped>\n",
       "    .dataframe tbody tr th:only-of-type {\n",
       "        vertical-align: middle;\n",
       "    }\n",
       "\n",
       "    .dataframe tbody tr th {\n",
       "        vertical-align: top;\n",
       "    }\n",
       "\n",
       "    .dataframe thead th {\n",
       "        text-align: right;\n",
       "    }\n",
       "</style>\n",
       "<table border=\"1\" class=\"dataframe\">\n",
       "  <thead>\n",
       "    <tr style=\"text-align: right;\">\n",
       "      <th></th>\n",
       "      <th>title</th>\n",
       "      <th>imdb_score</th>\n",
       "      <th>type</th>\n",
       "    </tr>\n",
       "    <tr>\n",
       "      <th>id</th>\n",
       "      <th></th>\n",
       "      <th></th>\n",
       "      <th></th>\n",
       "    </tr>\n",
       "  </thead>\n",
       "  <tbody>\n",
       "    <tr>\n",
       "      <th>ts4</th>\n",
       "      <td>Breaking Bad</td>\n",
       "      <td>9.5</td>\n",
       "      <td>SHOW</td>\n",
       "    </tr>\n",
       "    <tr>\n",
       "      <th>ts3371</th>\n",
       "      <td>Avatar: The Last Airbender</td>\n",
       "      <td>9.3</td>\n",
       "      <td>SHOW</td>\n",
       "    </tr>\n",
       "    <tr>\n",
       "      <th>ts85398</th>\n",
       "      <td>Our Planet</td>\n",
       "      <td>9.3</td>\n",
       "      <td>SHOW</td>\n",
       "    </tr>\n",
       "    <tr>\n",
       "      <th>ts90621</th>\n",
       "      <td>Kota Factory</td>\n",
       "      <td>9.3</td>\n",
       "      <td>SHOW</td>\n",
       "    </tr>\n",
       "    <tr>\n",
       "      <th>ts296563</th>\n",
       "      <td>Who Rules The World</td>\n",
       "      <td>9.2</td>\n",
       "      <td>SHOW</td>\n",
       "    </tr>\n",
       "    <tr>\n",
       "      <th>ts78298</th>\n",
       "      <td>My Mister</td>\n",
       "      <td>9.2</td>\n",
       "      <td>SHOW</td>\n",
       "    </tr>\n",
       "    <tr>\n",
       "      <th>ts37660</th>\n",
       "      <td>Reply 1988</td>\n",
       "      <td>9.2</td>\n",
       "      <td>SHOW</td>\n",
       "    </tr>\n",
       "    <tr>\n",
       "      <th>ts81120</th>\n",
       "      <td>The Last Dance</td>\n",
       "      <td>9.1</td>\n",
       "      <td>SHOW</td>\n",
       "    </tr>\n",
       "    <tr>\n",
       "      <th>ts222333</th>\n",
       "      <td>Arcane</td>\n",
       "      <td>9.1</td>\n",
       "      <td>SHOW</td>\n",
       "    </tr>\n",
       "    <tr>\n",
       "      <th>ts28516</th>\n",
       "      <td>Okupas</td>\n",
       "      <td>9.0</td>\n",
       "      <td>SHOW</td>\n",
       "    </tr>\n",
       "  </tbody>\n",
       "</table>\n",
       "</div>"
      ],
      "text/plain": [
       "                               title  imdb_score  type\n",
       "id                                                    \n",
       "ts4                     Breaking Bad         9.5  SHOW\n",
       "ts3371    Avatar: The Last Airbender         9.3  SHOW\n",
       "ts85398                   Our Planet         9.3  SHOW\n",
       "ts90621                 Kota Factory         9.3  SHOW\n",
       "ts296563         Who Rules The World         9.2  SHOW\n",
       "ts78298                    My Mister         9.2  SHOW\n",
       "ts37660                   Reply 1988         9.2  SHOW\n",
       "ts81120               The Last Dance         9.1  SHOW\n",
       "ts222333                      Arcane         9.1  SHOW\n",
       "ts28516                       Okupas         9.0  SHOW"
      ]
     },
     "execution_count": 25,
     "metadata": {},
     "output_type": "execute_result"
    }
   ],
   "source": [
    "top_10_imdb = data.sort_values(['imdb_score'], ascending=False)[['title','imdb_score','type']].head(10)\n",
    "top_10_imdb"
   ]
  },
  {
   "cell_type": "code",
   "execution_count": 26,
   "metadata": {
    "execution": {
     "iopub.execute_input": "2022-08-17T23:47:26.099054Z",
     "iopub.status.busy": "2022-08-17T23:47:26.098642Z",
     "iopub.status.idle": "2022-08-17T23:47:26.116347Z",
     "shell.execute_reply": "2022-08-17T23:47:26.115200Z",
     "shell.execute_reply.started": "2022-08-17T23:47:26.099017Z"
    }
   },
   "outputs": [
    {
     "data": {
      "text/html": [
       "<div>\n",
       "<style scoped>\n",
       "    .dataframe tbody tr th:only-of-type {\n",
       "        vertical-align: middle;\n",
       "    }\n",
       "\n",
       "    .dataframe tbody tr th {\n",
       "        vertical-align: top;\n",
       "    }\n",
       "\n",
       "    .dataframe thead th {\n",
       "        text-align: right;\n",
       "    }\n",
       "</style>\n",
       "<table border=\"1\" class=\"dataframe\">\n",
       "  <thead>\n",
       "    <tr style=\"text-align: right;\">\n",
       "      <th></th>\n",
       "      <th>title</th>\n",
       "      <th>tmdb_score</th>\n",
       "      <th>type</th>\n",
       "    </tr>\n",
       "    <tr>\n",
       "      <th>id</th>\n",
       "      <th></th>\n",
       "      <th></th>\n",
       "      <th></th>\n",
       "    </tr>\n",
       "  </thead>\n",
       "  <tbody>\n",
       "    <tr>\n",
       "      <th>tm678035</th>\n",
       "      <td>Uncle Naji in UAE</td>\n",
       "      <td>10.0</td>\n",
       "      <td>MOVIE</td>\n",
       "    </tr>\n",
       "    <tr>\n",
       "      <th>ts223115</th>\n",
       "      <td>The Charming Stepmom</td>\n",
       "      <td>10.0</td>\n",
       "      <td>SHOW</td>\n",
       "    </tr>\n",
       "    <tr>\n",
       "      <th>ts84555</th>\n",
       "      <td>The Unknown Hitman: The Story of El Cholo Adrián</td>\n",
       "      <td>10.0</td>\n",
       "      <td>SHOW</td>\n",
       "    </tr>\n",
       "    <tr>\n",
       "      <th>ts214462</th>\n",
       "      <td>The Queen and the Conqueror</td>\n",
       "      <td>10.0</td>\n",
       "      <td>SHOW</td>\n",
       "    </tr>\n",
       "    <tr>\n",
       "      <th>ts224261</th>\n",
       "      <td>Nailed It! Germany</td>\n",
       "      <td>10.0</td>\n",
       "      <td>SHOW</td>\n",
       "    </tr>\n",
       "    <tr>\n",
       "      <th>ts317526</th>\n",
       "      <td>Selling Tampa</td>\n",
       "      <td>10.0</td>\n",
       "      <td>SHOW</td>\n",
       "    </tr>\n",
       "    <tr>\n",
       "      <th>ts253288</th>\n",
       "      <td>Felipe Esparza: Bad Decisions</td>\n",
       "      <td>10.0</td>\n",
       "      <td>SHOW</td>\n",
       "    </tr>\n",
       "    <tr>\n",
       "      <th>ts14520</th>\n",
       "      <td>Action Pack</td>\n",
       "      <td>10.0</td>\n",
       "      <td>SHOW</td>\n",
       "    </tr>\n",
       "    <tr>\n",
       "      <th>ts192297</th>\n",
       "      <td>Morphle</td>\n",
       "      <td>10.0</td>\n",
       "      <td>SHOW</td>\n",
       "    </tr>\n",
       "    <tr>\n",
       "      <th>ts221891</th>\n",
       "      <td>Legend Quest: Masters of Myth</td>\n",
       "      <td>10.0</td>\n",
       "      <td>SHOW</td>\n",
       "    </tr>\n",
       "  </tbody>\n",
       "</table>\n",
       "</div>"
      ],
      "text/plain": [
       "                                                     title  tmdb_score   type\n",
       "id                                                                           \n",
       "tm678035                                 Uncle Naji in UAE        10.0  MOVIE\n",
       "ts223115                              The Charming Stepmom        10.0   SHOW\n",
       "ts84555   The Unknown Hitman: The Story of El Cholo Adrián        10.0   SHOW\n",
       "ts214462                       The Queen and the Conqueror        10.0   SHOW\n",
       "ts224261                                Nailed It! Germany        10.0   SHOW\n",
       "ts317526                                     Selling Tampa        10.0   SHOW\n",
       "ts253288                     Felipe Esparza: Bad Decisions        10.0   SHOW\n",
       "ts14520                                        Action Pack        10.0   SHOW\n",
       "ts192297                                           Morphle        10.0   SHOW\n",
       "ts221891                     Legend Quest: Masters of Myth        10.0   SHOW"
      ]
     },
     "execution_count": 26,
     "metadata": {},
     "output_type": "execute_result"
    }
   ],
   "source": [
    "top_10_tmdb = data.sort_values(['tmdb_score'], ascending=False)[['title','tmdb_score','type']].head(10)\n",
    "top_10_tmdb"
   ]
  },
  {
   "cell_type": "markdown",
   "metadata": {},
   "source": [
    "The top 10 IMDb titles and top 10 TMDB titles are not close at all! In fact, one of the top 10 titles of TMDB is \"Little Baby Bum,\" a children's animated nursery song program.\n",
    "\n",
    "Another thing to note is that the highest rating for a title on IMDb is 9.5, while there are 10 titles with perfect 10.0 ratings on TMDB."
   ]
  },
  {
   "cell_type": "markdown",
   "metadata": {},
   "source": [
    "We will view how IMDb and TMDB scores have changed over time with a movie's or TV show's release."
   ]
  },
  {
   "cell_type": "code",
   "execution_count": 27,
   "metadata": {
    "execution": {
     "iopub.execute_input": "2022-08-17T23:48:11.929054Z",
     "iopub.status.busy": "2022-08-17T23:48:11.928404Z",
     "iopub.status.idle": "2022-08-17T23:48:11.945070Z",
     "shell.execute_reply": "2022-08-17T23:48:11.944126Z",
     "shell.execute_reply.started": "2022-08-17T23:48:11.929007Z"
    }
   },
   "outputs": [
    {
     "data": {
      "text/html": [
       "<div>\n",
       "<style scoped>\n",
       "    .dataframe tbody tr th:only-of-type {\n",
       "        vertical-align: middle;\n",
       "    }\n",
       "\n",
       "    .dataframe tbody tr th {\n",
       "        vertical-align: top;\n",
       "    }\n",
       "\n",
       "    .dataframe thead th {\n",
       "        text-align: right;\n",
       "    }\n",
       "</style>\n",
       "<table border=\"1\" class=\"dataframe\">\n",
       "  <thead>\n",
       "    <tr style=\"text-align: right;\">\n",
       "      <th></th>\n",
       "      <th>imdb_score</th>\n",
       "      <th>tmdb_score</th>\n",
       "    </tr>\n",
       "    <tr>\n",
       "      <th>release_year</th>\n",
       "      <th></th>\n",
       "      <th></th>\n",
       "    </tr>\n",
       "  </thead>\n",
       "  <tbody>\n",
       "    <tr>\n",
       "      <th>1964</th>\n",
       "      <td>7.8</td>\n",
       "      <td>7.6</td>\n",
       "    </tr>\n",
       "    <tr>\n",
       "      <th>1966</th>\n",
       "      <td>7.3</td>\n",
       "      <td>7.1</td>\n",
       "    </tr>\n",
       "    <tr>\n",
       "      <th>1967</th>\n",
       "      <td>7.7</td>\n",
       "      <td>7.5</td>\n",
       "    </tr>\n",
       "    <tr>\n",
       "      <th>1969</th>\n",
       "      <td>8.8</td>\n",
       "      <td>8.3</td>\n",
       "    </tr>\n",
       "    <tr>\n",
       "      <th>1971</th>\n",
       "      <td>7.7</td>\n",
       "      <td>7.5</td>\n",
       "    </tr>\n",
       "  </tbody>\n",
       "</table>\n",
       "</div>"
      ],
      "text/plain": [
       "              imdb_score  tmdb_score\n",
       "release_year                        \n",
       "1964                 7.8         7.6\n",
       "1966                 7.3         7.1\n",
       "1967                 7.7         7.5\n",
       "1969                 8.8         8.3\n",
       "1971                 7.7         7.5"
      ]
     },
     "execution_count": 27,
     "metadata": {},
     "output_type": "execute_result"
    }
   ],
   "source": [
    "year_vs_scores = data.groupby('release_year').agg({'imdb_score':'mean','tmdb_score':'mean'})\n",
    "year_vs_scores.head()"
   ]
  },
  {
   "cell_type": "code",
   "execution_count": 28,
   "metadata": {
    "execution": {
     "iopub.execute_input": "2022-08-17T23:48:14.482012Z",
     "iopub.status.busy": "2022-08-17T23:48:14.480659Z",
     "iopub.status.idle": "2022-08-17T23:48:15.244796Z",
     "shell.execute_reply": "2022-08-17T23:48:15.243600Z",
     "shell.execute_reply.started": "2022-08-17T23:48:14.481959Z"
    }
   },
   "outputs": [
    {
     "data": {
      "image/png": "[encoded data removed]",
      "text/plain": [
       "<Figure size 1440x720 with 1 Axes>"
      ]
     },
     "metadata": {
      "needs_background": "light"
     },
     "output_type": "display_data"
    }
   ],
   "source": [
    "plt.figure(figsize=(20,10))\n",
    "palette = sns.color_palette('pastel')\n",
    "sns.barplot(x=year_vs_scores.index,y=year_vs_scores['imdb_score'],palette=palette)\n",
    "plt.title('IMDb Score vs. Years Released')\n",
    "plt.ylabel('IMDb Ratings (Average)')\n",
    "plt.xlabel('Released Year')\n",
    "plt.xticks(rotation=45)\n",
    "plt.show()"
   ]
  },
  {
   "cell_type": "code",
   "execution_count": 29,
   "metadata": {
    "execution": {
     "iopub.execute_input": "2022-08-17T23:48:18.241788Z",
     "iopub.status.busy": "2022-08-17T23:48:18.240995Z",
     "iopub.status.idle": "2022-08-17T23:48:19.147704Z",
     "shell.execute_reply": "2022-08-17T23:48:19.146500Z",
     "shell.execute_reply.started": "2022-08-17T23:48:18.241738Z"
    }
   },
   "outputs": [
    {
     "data": {
      "image/png": "[encoded data removed]",
      "text/plain": [
       "<Figure size 1440x720 with 1 Axes>"
      ]
     },
     "metadata": {
      "needs_background": "light"
     },
     "output_type": "display_data"
    }
   ],
   "source": [
    "plt.figure(figsize=(20,10))\n",
    "sns.barplot(x=year_vs_scores.index,y=year_vs_scores['tmdb_score'],palette=palette)\n",
    "plt.title('TMDB Score vs. Years Released')\n",
    "plt.ylabel('TMDB Score(Average)')\n",
    "plt.xlabel('Released Year')\n",
    "plt.xticks(rotation=45)\n",
    "plt.show()"
   ]
  },
  {
   "cell_type": "markdown",
   "metadata": {},
   "source": [
    "As we can see from comparing the two graphs, IMDb scores are generally lower than TMDB scores.\n",
    "\n",
    "IMDb also is steadily decreasing in their ratings as time goes on, while TMDB ratings have been consistent."
   ]
  },
  {
   "cell_type": "code",
   "execution_count": null,
   "metadata": {},
   "outputs": [],
   "source": []
  }
 ],
 "metadata": {
  "kernelspec": {
   "display_name": "Python 3 (ipykernel)",
   "language": "python",
   "name": "python3"
  },
  "language_info": {
   "codemirror_mode": {
    "name": "ipython",
    "version": 3
   },
   "file_extension": ".py",
   "mimetype": "text/x-python",
   "name": "python",
   "nbconvert_exporter": "python",
   "pygments_lexer": "ipython3",
   "version": "3.9.7"
  }
 },
 "nbformat": 4,
 "nbformat_minor": 4
}
